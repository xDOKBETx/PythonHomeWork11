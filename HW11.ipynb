{
 "cells": [
  {
   "cell_type": "code",
   "execution_count": 1,
   "id": "5ba8dab3",
   "metadata": {},
   "outputs": [],
   "source": [
    "#Определить корни\n",
    "#Найти интервалы, на которых функция возрастает\n",
    "#Найти интервалы, на которых функция убывает\n",
    "#Построить график\n",
    "#Вычислить вершину\n",
    "#Определить промежутки, на котором f > 0\n",
    "#Определить промежутки, на котором f < 0"
   ]
  },
  {
   "cell_type": "code",
   "execution_count": 2,
   "id": "d2486c69",
   "metadata": {},
   "outputs": [],
   "source": [
    "from sympy import*\n",
    "from math import*"
   ]
  },
  {
   "cell_type": "code",
   "execution_count": 3,
   "id": "01d2eab5",
   "metadata": {},
   "outputs": [],
   "source": [
    " # 1 Определить корни"
   ]
  },
  {
   "cell_type": "code",
   "execution_count": 4,
   "id": "c9c6422e",
   "metadata": {},
   "outputs": [],
   "source": [
    "x = Symbol('x')\n",
    "func=-12*x**4-18*x**3+5*x**2+10*x-30\n",
    "y=solve(func)\n",
    "x1=complex(y[0])\n",
    "x2=complex(y[1])"
   ]
  },
  {
   "cell_type": "code",
   "execution_count": 5,
   "id": "b9946451",
   "metadata": {},
   "outputs": [
    {
     "name": "stdout",
     "output_type": "stream",
     "text": [
      "(-1.4408072189240688+0.7272886336658471j) (0.6908072189240687+0.6946399301041614j)\n"
     ]
    }
   ],
   "source": [
    "print(x1,x2)"
   ]
  },
  {
   "cell_type": "code",
   "execution_count": 6,
   "id": "f8a7adcc",
   "metadata": {},
   "outputs": [],
   "source": [
    "# 2 Найти интервалы, на которых функция возрастает"
   ]
  },
  {
   "cell_type": "code",
   "execution_count": 7,
   "id": "9793a227",
   "metadata": {},
   "outputs": [
    {
     "name": "stdout",
     "output_type": "stream",
     "text": [
      "((-oo < x) & (x < CRootOf(24*x**3 + 27*x**2 - 5*x - 5, 0))) | ((x < CRootOf(24*x**3 + 27*x**2 - 5*x - 5, 2)) & (CRootOf(24*x**3 + 27*x**2 - 5*x - 5, 1) < x))\n"
     ]
    }
   ],
   "source": [
    "fd=diff(func)\n",
    "print(solve(0<fd))"
   ]
  },
  {
   "cell_type": "code",
   "execution_count": 8,
   "id": "4f78690a",
   "metadata": {},
   "outputs": [],
   "source": [
    "# 3 Найти интервалы, на которых функция убывает"
   ]
  },
  {
   "cell_type": "code",
   "execution_count": 9,
   "id": "24a7aba5",
   "metadata": {},
   "outputs": [
    {
     "name": "stdout",
     "output_type": "stream",
     "text": [
      "((x < oo) & (CRootOf(24*x**3 + 27*x**2 - 5*x - 5, 2) < x)) | ((x < CRootOf(24*x**3 + 27*x**2 - 5*x - 5, 1)) & (CRootOf(24*x**3 + 27*x**2 - 5*x - 5, 0) < x))\n"
     ]
    }
   ],
   "source": [
    "print(solve(fd<0))"
   ]
  },
  {
   "cell_type": "code",
   "execution_count": 10,
   "id": "657704eb",
   "metadata": {},
   "outputs": [],
   "source": [
    "# 4 Построить график"
   ]
  },
  {
   "cell_type": "code",
   "execution_count": 11,
   "id": "aa2d4932",
   "metadata": {
    "scrolled": true
   },
   "outputs": [
    {
     "name": "stdout",
     "output_type": "stream",
     "text": [
      "[-5205, -1910, -501, -78, -29, -30, -45, -326, -1413, -4134, -9605]\n"
     ]
    },
    {
     "data": {
      "image/png": "[encoded data removed]",
      "text/plain": [
       "<Figure size 640x480 with 1 Axes>"
      ]
     },
     "metadata": {},
     "output_type": "display_data"
    }
   ],
   "source": [
    "import matplotlib.pyplot as plt\n",
    "list_y=[]\n",
    "for i in range(-5,6):\n",
    "    x=i\n",
    "    y=-12*x**4-18*x**3+5*x**2+10*x-30\n",
    "    list_y.append(y)\n",
    "print(list_y)\n",
    "plt.plot(range(-5,6),[0,0,0,0,0,0,0,0,0,0,0])\n",
    "plt.plot(range(-5,6),list_y)\n",
    "plt.show()"
   ]
  },
  {
   "cell_type": "code",
   "execution_count": 12,
   "id": "7d538722",
   "metadata": {},
   "outputs": [],
   "source": [
    "# 5 Вычислить вершину"
   ]
  },
  {
   "cell_type": "code",
   "execution_count": 13,
   "id": "8242700e",
   "metadata": {},
   "outputs": [
    {
     "name": "stdout",
     "output_type": "stream",
     "text": [
      "-3/8 + (-1/2 - sqrt(3)*I/2)*(19/1536 + sqrt(108895)*I/3456)**(1/3) + 121/(576*(-1/2 - sqrt(3)*I/2)*(19/1536 + sqrt(108895)*I/3456)**(1/3)) -135/4 + 10*(-1/2 - sqrt(3)*I/2)*(19/1536 + sqrt(108895)*I/3456)**(1/3) - 18*(-3/8 + (-1/2 - sqrt(3)*I/2)*(19/1536 + sqrt(108895)*I/3456)**(1/3) + 121/(576*(-1/2 - sqrt(3)*I/2)*(19/1536 + sqrt(108895)*I/3456)**(1/3)))**3 + 5*(-3/8 + (-1/2 - sqrt(3)*I/2)*(19/1536 + sqrt(108895)*I/3456)**(1/3) + 121/(576*(-1/2 - sqrt(3)*I/2)*(19/1536 + sqrt(108895)*I/3456)**(1/3)))**2 - 12*(-3/8 + (-1/2 - sqrt(3)*I/2)*(19/1536 + sqrt(108895)*I/3456)**(1/3) + 121/(576*(-1/2 - sqrt(3)*I/2)*(19/1536 + sqrt(108895)*I/3456)**(1/3)))**4 + 605/(288*(-1/2 - sqrt(3)*I/2)*(19/1536 + sqrt(108895)*I/3456)**(1/3))\n"
     ]
    }
   ],
   "source": [
    "corni=solve(fd)\n",
    "top=corni[0]\n",
    "x=top\n",
    "y=-12*x**4-18*x**3+5*x**2+10*x-30\n",
    "print(top,y)"
   ]
  },
  {
   "cell_type": "code",
   "execution_count": 14,
   "id": "652303fb",
   "metadata": {},
   "outputs": [],
   "source": [
    "# 6 Определить промежутки, на котором f > 0"
   ]
  },
  {
   "cell_type": "code",
   "execution_count": 15,
   "id": "c4e4c0d5",
   "metadata": {},
   "outputs": [
    {
     "data": {
      "text/latex": [
       "$\\displaystyle \\text{False}$"
      ],
      "text/plain": [
       "False"
      ]
     },
     "execution_count": 15,
     "metadata": {},
     "output_type": "execute_result"
    }
   ],
   "source": [
    "solve(0<func)"
   ]
  },
  {
   "cell_type": "code",
   "execution_count": 16,
   "id": "4fd64656",
   "metadata": {},
   "outputs": [],
   "source": [
    "# 7 Определить промежутки, на котором f < 0"
   ]
  },
  {
   "cell_type": "code",
   "execution_count": 17,
   "id": "ce9933da",
   "metadata": {},
   "outputs": [
    {
     "data": {
      "text/latex": [
       "$\\displaystyle -\\infty < x \\wedge x < \\infty$"
      ],
      "text/plain": [
       "(-oo < x) & (x < oo)"
      ]
     },
     "execution_count": 17,
     "metadata": {},
     "output_type": "execute_result"
    }
   ],
   "source": [
    "solve(func<0)"
   ]
  }
 ],
 "metadata": {
  "kernelspec": {
   "display_name": "Python 3 (ipykernel)",
   "language": "python",
   "name": "python3"
  },
  "language_info": {
   "codemirror_mode": {
    "name": "ipython",
    "version": 3
   },
   "file_extension": ".py",
   "mimetype": "text/x-python",
   "name": "python",
   "nbconvert_exporter": "python",
   "pygments_lexer": "ipython3",
   "version": "3.9.13"
  }
 },
 "nbformat": 4,
 "nbformat_minor": 5
}
